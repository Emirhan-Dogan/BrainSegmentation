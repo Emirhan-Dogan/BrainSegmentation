{
 "cells": [
  {
   "cell_type": "code",
   "execution_count": null,
   "id": "a40bbafa",
   "metadata": {},
   "outputs": [],
   "source": [
    "from .discriminator import content_Dis,MsImageDis,SegDis,feat_Dis\n",
    "from .generator import ContentEncoder,Decoder,StyleEncoder\n",
    "from .DARUnet import DARUnet"
   ]
  }
 ],
 "metadata": {
  "kernelspec": {
   "display_name": "Python 3 (ipykernel)",
   "language": "python",
   "name": "python3"
  },
  "language_info": {
   "codemirror_mode": {
    "name": "ipython",
    "version": 3
   },
   "file_extension": ".py",
   "mimetype": "text/x-python",
   "name": "python",
   "nbconvert_exporter": "python",
   "pygments_lexer": "ipython3",
   "version": "3.10.9"
  }
 },
 "nbformat": 4,
 "nbformat_minor": 5
}
