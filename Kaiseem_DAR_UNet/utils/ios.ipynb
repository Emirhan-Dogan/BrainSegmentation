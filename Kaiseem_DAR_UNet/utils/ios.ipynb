{
 "cells": [
  {
   "cell_type": "code",
   "execution_count": null,
   "id": "1fb77d59",
   "metadata": {},
   "outputs": [],
   "source": [
    "import os\n",
    "def mkdir(r,n):\n",
    "    p=os.path.join(r,n)\n",
    "    if not os.path.isdir(p):\n",
    "        os.makedirs(p)\n",
    "\n",
    "def create_dirs(name):\n",
    "    mkdir(name,'i2i_train_visual')\n",
    "    mkdir(name,'i2i_checkpoints')"
   ]
  }
 ],
 "metadata": {
  "kernelspec": {
   "display_name": "Python 3 (ipykernel)",
   "language": "python",
   "name": "python3"
  },
  "language_info": {
   "codemirror_mode": {
    "name": "ipython",
    "version": 3
   },
   "file_extension": ".py",
   "mimetype": "text/x-python",
   "name": "python",
   "nbconvert_exporter": "python",
   "pygments_lexer": "ipython3",
   "version": "3.10.9"
  }
 },
 "nbformat": 4,
 "nbformat_minor": 5
}
