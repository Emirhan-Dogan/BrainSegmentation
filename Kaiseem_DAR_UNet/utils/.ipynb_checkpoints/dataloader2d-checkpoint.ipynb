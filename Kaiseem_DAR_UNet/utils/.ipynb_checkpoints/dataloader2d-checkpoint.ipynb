{
 "cells": [
  {
   "cell_type": "code",
   "execution_count": null,
   "id": "12c60e06",
   "metadata": {},
   "outputs": [],
   "source": [
    "import torch.utils.data as data\n",
    "import torch.nn.functional as F\n",
    "import albumentations as A\n",
    "from albumentations.pytorch import ToTensorV2\n",
    "import numpy as np\n",
    "import random\n",
    "import cv2\n",
    "\n",
    "class I2IDataset(data.Dataset):\n",
    "    def __init__(self, train=True):\n",
    "        self.is_train=train\n",
    "        self.A_imgs, self.B_imgs = self.load_train_data()\n",
    "\n",
    "        self.gan_aug = A.Compose([\n",
    "            A.ShiftScaleRotate(shift_limit=0.1, scale_limit=0.1, rotate_limit=30, p=0.5,\n",
    "                               border_mode=cv2.BORDER_CONSTANT),\n",
    "            A.VerticalFlip(p=0.5),\n",
    "            A.HorizontalFlip(p=0.5),\n",
    "            A.Normalize(mean=(0.5), std=(0.5), max_pixel_value=1.0),\n",
    "            ToTensorV2()\n",
    "        ])\n",
    "\n",
    "    def load_train_data(self):\n",
    "        A_imgs=np.load('datasets/A_imgs.npy')\n",
    "        B_imgs=np.load('datasets/B_imgs.npy')\n",
    "        return A_imgs,B_imgs\n",
    "\n",
    "    def __getitem__(self, index):\n",
    "        A_img = self.A_imgs[index]\n",
    "        B_index = random.randint(0, self.B_imgs.shape[0] - 1)\n",
    "        B_img = self.B_imgs[B_index]\n",
    "        A_img = self.gan_aug(image=A_img)[\"image\"]\n",
    "        B_img = self.gan_aug(image=B_img)[\"image\"]\n",
    "        return {'A_img': A_img, 'B_img': B_img}\n",
    "\n",
    "    def __len__(self):\n",
    "        return self.A_imgs.shape[0]"
   ]
  }
 ],
 "metadata": {
  "kernelspec": {
   "display_name": "Python 3 (ipykernel)",
   "language": "python",
   "name": "python3"
  },
  "language_info": {
   "codemirror_mode": {
    "name": "ipython",
    "version": 3
   },
   "file_extension": ".py",
   "mimetype": "text/x-python",
   "name": "python",
   "nbconvert_exporter": "python",
   "pygments_lexer": "ipython3",
   "version": "3.10.9"
  }
 },
 "nbformat": 4,
 "nbformat_minor": 5
}
